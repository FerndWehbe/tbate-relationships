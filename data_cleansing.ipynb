{
 "cells": [
  {
   "cell_type": "code",
   "execution_count": 1,
   "id": "64c92ed0-3a21-4d4c-b1ac-78e846009686",
   "metadata": {},
   "outputs": [],
   "source": [
    "import pandas\n",
    "import numpy\n",
    "import json"
   ]
  },
  {
   "cell_type": "code",
   "execution_count": 27,
   "id": "8b79b49f",
   "metadata": {},
   "outputs": [],
   "source": [
    "with open(\"./Data/caps_per_volumes.json\") as f:\n",
    "    cap_p_vol = json.load(f)\n",
    "with open(\"./Data/list_with_caps_content.json\") as f:\n",
    "    caps_content = json.load(f)\n",
    "    \n",
    "del cap_p_vol[\"Volume 8.5\"]\n",
    "del cap_p_vol[\"Exclusive Chapters\"]"
   ]
  },
  {
   "cell_type": "code",
   "execution_count": 28,
   "id": "53190df5-2c2a-4b6d-9057-1346b1add1fb",
   "metadata": {},
   "outputs": [],
   "source": [
    "df_caps_content = pandas.DataFrame.from_dict(caps_content)"
   ]
  },
  {
   "cell_type": "code",
   "execution_count": 30,
   "id": "7ba3c403-e492-4339-9038-6ed417d7b2a5",
   "metadata": {},
   "outputs": [],
   "source": [
    "caps_per_vol = {}\n",
    "start = 0\n",
    "for volume, cap in cap_p_vol.items():\n",
    "    caps = list(filter(lambda x: x is not None, cap.values()))\n",
    "    caps_per_vol[volume] = {row[\"cap_title\"]: row[\"content_cap\"] for row in caps_content[start:start+len(caps)]}\n",
    "    start = start + len(caps)"
   ]
  },
  {
   "cell_type": "code",
   "execution_count": 39,
   "id": "fe673b18-25ec-421b-952c-e945bd135a5e",
   "metadata": {},
   "outputs": [],
   "source": [
    "with open(\"./Data/caps_with_content_per_vol.json\", \"w\") as f:\n",
    "    json.dump(caps_per_vol, f, indent=4)"
   ]
  },
  {
   "cell_type": "code",
   "execution_count": 41,
   "id": "855650d0-4f31-4f82-a2d8-5a9f0f369aa0",
   "metadata": {},
   "outputs": [],
   "source": [
    "volumes = [*caps_per_vol.keys()]\n",
    "for volume in volumes:\n",
    "    book = \"\"\n",
    "    for cap, text in caps_per_vol[volume].items():\n",
    "        book += cap + \"\\n\\n\" + text +\"\\n\\n\\n\"\n",
    "    with open(f\"./Novel Volumes/{volume}.txt\", \"w\") as f:\n",
    "        f.write(book)"
   ]
  }
 ],
 "metadata": {
  "kernelspec": {
   "display_name": "Python 3 (ipykernel)",
   "language": "python",
   "name": "python3"
  },
  "language_info": {
   "codemirror_mode": {
    "name": "ipython",
    "version": 3
   },
   "file_extension": ".py",
   "mimetype": "text/x-python",
   "name": "python",
   "nbconvert_exporter": "python",
   "pygments_lexer": "ipython3",
   "version": "3.10.4"
  },
  "toc-autonumbering": true,
  "toc-showcode": true,
  "toc-showmarkdowntxt": true,
  "vscode": {
   "interpreter": {
    "hash": "c403a6de767a54cba734db657227d93b5093427e189f7bc40162380e07fbd9b5"
   }
  }
 },
 "nbformat": 4,
 "nbformat_minor": 5
}
