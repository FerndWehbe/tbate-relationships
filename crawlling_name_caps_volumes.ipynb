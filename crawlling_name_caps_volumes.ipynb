{
 "cells": [
  {
   "cell_type": "code",
   "execution_count": 14,
   "id": "99cd591e-d17f-44d3-b160-ab636e45b49d",
   "metadata": {},
   "outputs": [],
   "source": [
    "# Imports\n",
    "from webdriver_manager.chrome import ChromeDriverManager\n",
    "from selenium.webdriver.chrome.options import Options\n",
    "from selenium.webdriver.chrome.service import Service\n",
    "from selenium.webdriver.common.by import By\n",
    "from selenium import webdriver\n",
    "import pandas\n",
    "import time"
   ]
  },
  {
   "cell_type": "code",
   "execution_count": 15,
   "id": "7945e3e5-b52e-45cf-a44a-8d7f6c75acbf",
   "metadata": {},
   "outputs": [],
   "source": [
    "options = Options()\n",
    "options.add_argument(\"start-maximized\")\n",
    "driver = webdriver.Chrome(service=Service(ChromeDriverManager().install()), options=options)"
   ]
  },
  {
   "cell_type": "code",
   "execution_count": 12,
   "id": "c8914c14-23df-4168-b781-29e215f8e802",
   "metadata": {},
   "outputs": [],
   "source": [
    "url_fandom = \"https://tbate.fandom.com/wiki/The_Beginning_After_The_End_Wiki\""
   ]
  },
  {
   "cell_type": "code",
   "execution_count": 21,
   "id": "26b63198-ef32-4c54-9e91-31e1bc5dc9d9",
   "metadata": {},
   "outputs": [],
   "source": [
    "# Load Fandom Page\n",
    "driver.get(url_fandom)\n",
    "\n",
    "try:\n",
    "    driver.find_element(By.XPATH, '//div[text()=\"ACEITAR\"]').click()\n",
    "except Exception as e:\n",
    "    pass\n",
    "    try:\n",
    "        driver.find_element(By.XPATH, '//div[text()=\"ACCEPT\"]').click()\n",
    "    except Exception as e:\n",
    "        pass"
   ]
  },
  {
   "cell_type": "code",
   "execution_count": 23,
   "id": "9136d142-26d4-433c-96ad-2e637e8a45cf",
   "metadata": {},
   "outputs": [],
   "source": [
    "time.sleep(3)\n",
    "novel_btn = driver.find_element(By.XPATH, '//*[@id=\"NavBtns\"]/li[5]')\n",
    "novel_btn.click()\n",
    "time.sleep(2)\n",
    "driver.find_element(By.XPATH, '//*[@id=\"SliderWrapper\"]/li[5]/a').click()\n",
    "time.sleep(5)\n",
    "driver.find_element(By.XPATH, '//*[@id=\"mw-content-text\"]/div/ul/li/i/a').click()"
   ]
  },
  {
   "cell_type": "code",
   "execution_count": 24,
   "id": "fa50ee8b-d29a-48ca-ac2e-e10b56d88705",
   "metadata": {},
   "outputs": [],
   "source": [
    "volumes_titles = driver.find_elements(By.XPATH, '//*[@id=\"mw-content-text\"]/div/h2')\n",
    "volumes_chapters = driver.find_elements(By.XPATH, '//*[@id=\"mw-content-text\"]/div/ul')"
   ]
  },
  {
   "cell_type": "code",
   "execution_count": 30,
   "id": "58eea2a1-3635-4bf1-83ca-45009c3c29fb",
   "metadata": {},
   "outputs": [],
   "source": [
    "list_chapter_per_volume = []\n",
    "for volume_title, volume_chapter in zip(volumes_titles, volumes_chapters):\n",
    "    list_chapter_per_volume.append({volume_title.text: volume_chapter.text.splitlines()})\n",
    "columns = [[*volume.keys()][0] for volume in list_chapter_per_volume]\n",
    "df_caps_per_volumes = pandas.DataFrame([volume[col]  for col, volume in zip(columns, list_chapter_per_volume)]).T\n",
    "df_caps_per_volumes.columns = columns"
   ]
  },
  {
   "cell_type": "code",
   "execution_count": 44,
   "id": "7d1f4e0f-045f-4797-b094-38acc59eb91c",
   "metadata": {},
   "outputs": [],
   "source": [
    "last_titles = volumes_titles[len(volumes_chapters):]\n",
    "last_volumes = driver.find_elements(By.XPATH, '//*[@id=\"mw-content-text\"]/div/table/tbody')"
   ]
  },
  {
   "cell_type": "code",
   "execution_count": 46,
   "id": "6e58b270-815a-4a69-a027-42fbf5eb6a9e",
   "metadata": {},
   "outputs": [],
   "source": [
    "columns = []\n",
    "caps_vol = []\n",
    "for index, (title, chapters) in enumerate(zip(last_titles, last_volumes)):\n",
    "    columns.append(title.text)\n",
    "    chapter_name = chapters.find_elements(By.XPATH, f'//*[@id=\"mw-content-text\"]/div/table[{index+1}]/tbody/tr/td[1]')\n",
    "    caps_vol.append([name.text.replace(\"\\n\", \": \") for name in chapter_name])\n",
    "df_caps2 = pandas.DataFrame(caps_vol).T\n",
    "df_caps2.columns = columns[:2] + [\"Exclusive Chapters\"]\n",
    "\n",
    "merged = df_caps_per_volumes.join(df_caps2)"
   ]
  },
  {
   "cell_type": "code",
   "execution_count": 49,
   "id": "067c79c8-170d-4080-b8cf-27dc24ee293a",
   "metadata": {},
   "outputs": [],
   "source": [
    "columns = [column.split(\":\")[0] for column in merged.columns]\n",
    "merged.columns = columns"
   ]
  },
  {
   "cell_type": "code",
   "execution_count": 51,
   "id": "08301923-c4c0-459b-9f34-4cfef7876530",
   "metadata": {},
   "outputs": [],
   "source": [
    "merged.to_json(\"./Data/caps_per_volumes.json\")"
   ]
  }
 ],
 "metadata": {
  "kernelspec": {
   "display_name": "Python 3 (ipykernel)",
   "language": "python",
   "name": "python3"
  },
  "language_info": {
   "codemirror_mode": {
    "name": "ipython",
    "version": 3
   },
   "file_extension": ".py",
   "mimetype": "text/x-python",
   "name": "python",
   "nbconvert_exporter": "python",
   "pygments_lexer": "ipython3",
   "version": "3.10.4"
  }
 },
 "nbformat": 4,
 "nbformat_minor": 5
}
