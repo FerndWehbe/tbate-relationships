{
 "cells": [
  {
   "cell_type": "code",
   "execution_count": 9,
   "id": "71db20a8-0d15-4bc2-acc8-0794e0d69f38",
   "metadata": {},
   "outputs": [],
   "source": [
    "# Imports\n",
    "from webdriver_manager.chrome import ChromeDriverManager\n",
    "from selenium.webdriver.chrome.options import Options\n",
    "from selenium.webdriver.chrome.service import Service\n",
    "from selenium.webdriver.common.by import By\n",
    "from selenium import webdriver\n",
    "import pandas\n",
    "import time"
   ]
  },
  {
   "cell_type": "code",
   "execution_count": 10,
   "id": "eef73a34-be9c-4c46-93a2-81c449d5268b",
   "metadata": {},
   "outputs": [],
   "source": [
    "options = Options()\n",
    "options.add_argument(\"start-maximized\")\n",
    "driver = webdriver.Chrome(service=Service(ChromeDriverManager().install()), options=options)"
   ]
  },
  {
   "cell_type": "code",
   "execution_count": 3,
   "id": "c9b2ed92-aeb9-44ea-a8b5-43c1fdabd364",
   "metadata": {},
   "outputs": [],
   "source": [
    "url_fandom = \"https://tbate.fandom.com/wiki/The_Beginning_After_The_End_Wiki\""
   ]
  },
  {
   "cell_type": "code",
   "execution_count": 4,
   "id": "fdfb2622-f970-4e58-9cbf-52e41620110f",
   "metadata": {},
   "outputs": [],
   "source": [
    "# Load Fandom Page\n",
    "driver.get(url_fandom)\n",
    "\n",
    "try:\n",
    "    driver.find_element(By.XPATH, '//div[text()=\"ACEITAR\"]').click()\n",
    "except Exception as e:\n",
    "    pass\n",
    "    try:\n",
    "        driver.find_element(By.XPATH, '//div[text()=\"ACCEPT\"]').click()\n",
    "    except Exception as e:\n",
    "        pass"
   ]
  },
  {
   "cell_type": "code",
   "execution_count": 5,
   "id": "d47a453a-22a3-4e57-9e06-af45f11859cf",
   "metadata": {},
   "outputs": [
    {
     "data": {
      "text/plain": [
       "'https://tbate.fandom.com/wiki/Characters'"
      ]
     },
     "execution_count": 5,
     "metadata": {},
     "output_type": "execute_result"
    }
   ],
   "source": [
    "# Go to character page\n",
    "see_more = driver.find_element(By.XPATH, '//a[@title=\"Characters\"]').get_attribute(\"href\")\n",
    "driver.get(see_more)\n",
    "\n",
    "# Wait for page load all content\n",
    "time.sleep(2)\n",
    "see_more"
   ]
  },
  {
   "cell_type": "code",
   "execution_count": 6,
   "id": "59840f4d-b676-43bc-899c-66c6a2d80c14",
   "metadata": {},
   "outputs": [],
   "source": [
    "list_tables = driver.find_elements(By.XPATH, '//*[@id=\"mw-content-text\"]/div/table/tbody/tr[2]/th/a')\n",
    "\n",
    "list_persons = [{\"name\":person.text} for person in list_tables]\n",
    "\n",
    "# Character does not appear in the fandom but is a main character in the story\n",
    "list_persons.append({\"name\": \"Regis\"})\n",
    "\n",
    "df_persons = pandas.DataFrame().from_dict(list_persons)\n",
    "df_persons = pandas.DataFrame(df_persons['name'].unique(), columns=['Name'])"
   ]
  },
  {
   "cell_type": "code",
   "execution_count": 7,
   "id": "18c7b2cf-e84a-4ee0-96bc-4b9d406045c9",
   "metadata": {},
   "outputs": [],
   "source": [
    "# Separete name in first and last name\n",
    "df_persons[[\"First Name\", \"Last Name\"]] = df_persons[\"Name\"].str.split(\" \", 1, expand=True)"
   ]
  },
  {
   "cell_type": "code",
   "execution_count": 8,
   "id": "73d9b1a9-8972-42d5-ae06-3cb9c45967b7",
   "metadata": {},
   "outputs": [],
   "source": [
    "# Set 'Professor' title as a last name\n",
    "idx = (df_persons[\"First Name\"] == \"Professor\")\n",
    "df_persons.loc[idx, [\"Last Name\", \"First Name\"]] = df_persons.loc[idx, [\"First Name\", \"Last Name\"]].values\n",
    "df_persons.to_json(\"./Data/df_persons.json\")"
   ]
  }
 ],
 "metadata": {
  "kernelspec": {
   "display_name": "Python 3 (ipykernel)",
   "language": "python",
   "name": "python3"
  },
  "language_info": {
   "codemirror_mode": {
    "name": "ipython",
    "version": 3
   },
   "file_extension": ".py",
   "mimetype": "text/x-python",
   "name": "python",
   "nbconvert_exporter": "python",
   "pygments_lexer": "ipython3",
   "version": "3.10.4"
  },
  "toc-autonumbering": false,
  "toc-showmarkdowntxt": true
 },
 "nbformat": 4,
 "nbformat_minor": 5
}
