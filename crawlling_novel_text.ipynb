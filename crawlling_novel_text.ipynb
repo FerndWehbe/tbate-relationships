{
 "cells": [
  {
   "cell_type": "code",
   "execution_count": 9,
   "id": "b3d773df-a409-48ed-a44a-63bff314c230",
   "metadata": {},
   "outputs": [],
   "source": [
    "# Imports\n",
    "from selenium.common.exceptions import NoSuchElementException\n",
    "from webdriver_manager.chrome import ChromeDriverManager\n",
    "from selenium.webdriver.chrome.options import Options\n",
    "from selenium.webdriver.chrome.service import Service\n",
    "from selenium.webdriver.common.by import By\n",
    "from selenium import webdriver\n",
    "import pandas\n",
    "import time"
   ]
  },
  {
   "cell_type": "code",
   "execution_count": 4,
   "id": "263e57d2-df1f-4ef5-8b95-23c16fce57b0",
   "metadata": {},
   "outputs": [],
   "source": [
    "options = Options()\n",
    "options.add_argument(\"start-maximized\")\n",
    "driver = webdriver.Chrome(service=Service(ChromeDriverManager().install()), options=options)"
   ]
  },
  {
   "cell_type": "code",
   "execution_count": 5,
   "id": "22ae12a8-c9dd-4384-8818-747fe51cda5d",
   "metadata": {},
   "outputs": [],
   "source": [
    "url_novel = \"https://allnovelfull.com/the-beginning-after-the-end.html\""
   ]
  },
  {
   "cell_type": "code",
   "execution_count": 7,
   "id": "f1020cbe-5c45-4c86-b8a5-0b9bf05fc401",
   "metadata": {},
   "outputs": [],
   "source": [
    "# Load Novel Page\n",
    "driver.get(url_novel)"
   ]
  },
  {
   "cell_type": "code",
   "execution_count": 12,
   "id": "964a3e5e-090b-463f-bb28-63a993f0fd72",
   "metadata": {},
   "outputs": [],
   "source": [
    "# Create Functions for scrapping data\n",
    "\n",
    "def get_caps_in_page() -> list:\n",
    "    \"\"\"\n",
    "    It returns a list of dictionaries, where each dictionary has a key \"chap_name\" and a key \"chap_url\".\n",
    "    :return: A list of Dict\n",
    "    \"\"\"\n",
    "    list_li_in_pag = driver.find_elements(\n",
    "        By.XPATH,\n",
    "        '//*[@id=\"list-chapter\"]/div[@class=\"row\"]/div/ul[@class=\"list-chapter\"]/li/a'\n",
    "    )\n",
    "    return [\n",
    "        {\"chap_name\": li.text, \"chap_url\": li.get_attribute(\"href\")}\n",
    "        for li in list_li_in_pag\n",
    "    ]\n",
    "\n",
    "def get_next_page(list_li: list) -> list:\n",
    "    \"\"\"\n",
    "    It will keep clicking the next page button until it can't find it anymore, and then return the list\n",
    "    of all the links it found\n",
    "\n",
    "    :param list_lis: This is the list of all the chapters\n",
    "    :return: A list of tuples.\n",
    "    \"\"\"\n",
    "    try:\n",
    "        list_li = [*list_li, *get_caps_in_page()]\n",
    "        time.sleep(2)\n",
    "        next_list = driver.find_element(\n",
    "            By.XPATH, '//*[@id=\"list-chapter\"]/ul[1]/li[10]/a'\n",
    "        )\n",
    "        next_list.click()\n",
    "        return get_next_page(list_li)\n",
    "    except NoSuchElementException:\n",
    "        print(\"Last Page of chapt\")\n",
    "        return list_li\n",
    "\n",
    "def get_cap_content() -> dict:\n",
    "    \"\"\"\n",
    "    It will wait for 2 seconds, then it will find the element with the id \"chapter-content\" and the\n",
    "    element with the class \"chapter-title\" and return a dictionary with the title and the content of the\n",
    "    chapter\n",
    "    :return: A dictionary with the title and content of the chapter.\n",
    "    \"\"\"\n",
    "    time.sleep(2)\n",
    "    content = driver.find_element(By.XPATH, '//*[@id=\"chapter-content\"]')\n",
    "    title = driver.find_element(By.XPATH, '//*[@class=\"chapter-title\"]').text\n",
    "    return {\"cap_title\": title, \"content_cap\": content.text}\n",
    "\n",
    "def next_caps(list_content: list) -> None:\n",
    "    \"\"\"\n",
    "    If the next button is not disabled, click it and call the function again.\n",
    "\n",
    "    :param list_content: list = []\n",
    "    :type list_content: list\n",
    "    :return: A list of strings.\n",
    "    \"\"\"\n",
    "    try:\n",
    "        content = get_cap_content()\n",
    "        list_content.append(content)\n",
    "        next_cap = driver.find_element(By.XPATH, '//*[@id=\"next_chap\"]')\n",
    "        if not next_cap.get_attribute(\"disabled\"):\n",
    "            next_cap.click()\n",
    "            return next_caps(list_content)\n",
    "    except Exception:\n",
    "        next_caps(list_content)"
   ]
  },
  {
   "cell_type": "code",
   "execution_count": 13,
   "id": "80b6c12d-30c3-4734-a4f2-32e2f941ecd9",
   "metadata": {},
   "outputs": [
    {
     "name": "stdout",
     "output_type": "stream",
     "text": [
      "Last Page of chapt\n"
     ]
    }
   ],
   "source": [
    "list_chapter = get_next_page([])"
   ]
  },
  {
   "cell_type": "code",
   "execution_count": 16,
   "id": "6b1bec66-52fb-4ae7-b4d2-de6e421b9f4d",
   "metadata": {},
   "outputs": [],
   "source": [
    "with open(\"./Data/list_of_caps_url.json\", \"w\") as f:\n",
    "    json.dump(list_chapter, f, indent=4)"
   ]
  },
  {
   "cell_type": "code",
   "execution_count": 18,
   "id": "2414b74f-4faf-4411-bdb4-80ec502536e6",
   "metadata": {},
   "outputs": [],
   "source": [
    "list_content = []\n",
    "\n",
    "# Start chapter for scraping\n",
    "driver.get(list_chapter[0][\"chap_url\"])"
   ]
  },
  {
   "cell_type": "code",
   "execution_count": 19,
   "id": "c91937aa-233e-42d9-b9af-1854652af761",
   "metadata": {},
   "outputs": [],
   "source": [
    "# Recursive funtion for read content int the all chapters of novel\n",
    "next_caps(list_content)"
   ]
  },
  {
   "cell_type": "code",
   "execution_count": 22,
   "id": "c4f7326e-e30d-4fd9-b038-b3e3a47346a7",
   "metadata": {},
   "outputs": [],
   "source": [
    "with open(\"./Data/list_with_caps_content.json\", \"w\") as f:\n",
    "    json.dump(list_content, f, indent=4)"
   ]
  }
 ],
 "metadata": {
  "kernelspec": {
   "display_name": "Python 3 (ipykernel)",
   "language": "python",
   "name": "python3"
  },
  "language_info": {
   "codemirror_mode": {
    "name": "ipython",
    "version": 3
   },
   "file_extension": ".py",
   "mimetype": "text/x-python",
   "name": "python",
   "nbconvert_exporter": "python",
   "pygments_lexer": "ipython3",
   "version": "3.10.4"
  }
 },
 "nbformat": 4,
 "nbformat_minor": 5
}
